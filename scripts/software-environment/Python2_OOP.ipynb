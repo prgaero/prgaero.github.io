{
 "cells": [
  {
   "cell_type": "code",
   "execution_count": 1,
   "metadata": {
    "collapsed": true
   },
   "outputs": [],
   "source": [
    "#########################################################\n",
    "## Video 1\n",
    "# Classes and Instances\n",
    "#### \n",
    "# \n",
    "# Group data and functions.\n",
    "#   Data and functitions > Attributes and methods\n",
    "\n",
    "class Employee:\n",
    "    pass"
   ]
  },
  {
   "cell_type": "code",
   "execution_count": 3,
   "metadata": {},
   "outputs": [
    {
     "name": "stdout",
     "output_type": "stream",
     "text": [
      "<__main__.Employee instance at 0x00000000058A62C8>\n",
      "<__main__.Employee instance at 0x00000000058A60C8>\n"
     ]
    }
   ],
   "source": [
    "# Difference between classes and instances \n",
    "#\n",
    "# Class : Blue Print for cleating instances\n",
    "\n",
    "class Employee:\n",
    "    pass\n",
    "\n",
    "emp1 = Employee() # Each unique instance\n",
    "emp2 = Employee() # Each unique instance\n",
    "# Each of them is a unique instance of the employee class\n",
    "# Inatance variables <---> class variables\n",
    "\n",
    "print(emp1)\n",
    "print(emp2)"
   ]
  },
  {
   "cell_type": "code",
   "execution_count": 5,
   "metadata": {},
   "outputs": [
    {
     "name": "stdout",
     "output_type": "stream",
     "text": [
      "<__main__.Employee instance at 0x00000000058A6408>\n",
      "<__main__.Employee instance at 0x00000000058A62C8>\n",
      "Tats.SH@company.com\n",
      "Test.User@company.com\n"
     ]
    }
   ],
   "source": [
    "class Employee:\n",
    "    pass\n",
    "\n",
    "emp1 = Employee() # Each unique instance\n",
    "emp2 = Employee() # Each unique instance\n",
    "# Each of them is a unique instance of the employee class\n",
    "# Inatance variables <---> class variables\n",
    "\n",
    "print(emp1)\n",
    "print(emp2)\n",
    "\n",
    "emp1.fast = \"Tats\"\n",
    "emp1.last = \"SH\"\n",
    "emp1.email = \"Tats.SH@company.com\"\n",
    "emp1.pay = 50000\n",
    "\n",
    "emp2.fast = \"Test\"\n",
    "emp2.last = \"User\"\n",
    "emp2.email = \"Test.User@company.com\"\n",
    "emp2.pay = 60000\n",
    "\n",
    "# Each of these instances has attributes which unique to it. \n",
    "\n",
    "print(emp1.email)\n",
    "print(emp2.email)"
   ]
  },
  {
   "cell_type": "code",
   "execution_count": 9,
   "metadata": {},
   "outputs": [
    {
     "name": "stdout",
     "output_type": "stream",
     "text": [
      "Tats.SH@company.com\n",
      "Test.User@company.com\n",
      "Tats SH\n"
     ]
    }
   ],
   "source": [
    "### init method\n",
    "# Initialization or constructor (if you are familiar with another language)\n",
    "\n",
    "class Employee:\n",
    "    def __init__(self, first, last, pay):\n",
    "        # It receives the instance as a first argument automatically. \n",
    "        # By convention, it is called self. \n",
    "        # After the self, you should input other arguments you want to accept.\n",
    "        \n",
    "        # self is instance\n",
    "        # Set all instance variables\n",
    "        self.first = first\n",
    "        self.last = last\n",
    "        self.pay = pay\n",
    "        self.email = first + '.' + last + '@company.com'\n",
    "\n",
    "emp1 = Employee(\"Tats\", \"SH\", 50000) # This is going to set all attributes \n",
    "emp2 = Employee(\"Test\",\"User\",60000) # This is going to set all attributes \n",
    "\n",
    "print(emp1.email)\n",
    "print(emp2.email)\n",
    "\n",
    "# first, last, pay and email are all attributes of the class. \n",
    "\n",
    "print('{} {}'.format(emp1.first, emp1.last))\n",
    "# This is too much work. It is good idea to put this method into a class. "
   ]
  },
  {
   "cell_type": "code",
   "execution_count": 112,
   "metadata": {},
   "outputs": [
    {
     "name": "stdout",
     "output_type": "stream",
     "text": [
      "Tats.SH@company.com\n",
      "Test.User@company.com\n",
      "Tats SH\n",
      "Test User\n",
      "<bound method Employee.fullname of <__main__.Employee instance at 0x0000000004052BC8>>\n",
      "<bound method Employee.fullname of <__main__.Employee instance at 0x00000000059F9088>>\n"
     ]
    }
   ],
   "source": [
    "# Method in the class\n",
    "class Employee:\n",
    "    def __init__(self, first, last, pay):\n",
    "        # It receives the instance as a first argument automatically. \n",
    "        # By convention, it is called self. \n",
    "        # After the self, you should input other arguments you want to accept.\n",
    "        \n",
    "        # self is instance\n",
    "        # Set all instance variables\n",
    "        self.first = first\n",
    "        self.last = last\n",
    "        self.pay = pay\n",
    "        self.email = first + '.' + last + '@company.com'\n",
    "    \n",
    "    def fullname(self):\n",
    "        # It always calls the instance as a first argument. \n",
    "        # That is all you need. \n",
    "        return '{} {}'.format(self.first, self.last)\n",
    "\n",
    "emp1 = Employee(\"Tats\", \"SH\", 50000) # This is going to set all attributes \n",
    "emp2 = Employee(\"Test\",\"User\",60000) # This is going to set all attributes \n",
    "\n",
    "print(emp1.email)\n",
    "print(emp2.email)\n",
    "\n",
    "print(emp1.fullname()) # You need () here because this is a method instead of an attribute. \n",
    "print(emp2.fullname()) # You need () here because this is a method instead of an attribute. \n",
    "\n",
    "print(emp1.fullname) # This prints the method instead of the return value of the method. \n",
    "print(emp2.fullname) # This prints the method instead of the return value of the method. "
   ]
  },
  {
   "cell_type": "code",
   "execution_count": 14,
   "metadata": {
    "collapsed": true
   },
   "outputs": [],
   "source": [
    "# self is important\n",
    "class Employee:\n",
    "    def __init__(self, first, last, pay):\n",
    "        # It receives the instance as a first argument automatically. \n",
    "        # By convention, it is called self. \n",
    "        # After the self, you should input other arguments you want to accept.\n",
    "        \n",
    "        # self is instance\n",
    "        # Set all instance variables\n",
    "        self.first = first\n",
    "        self.last = last\n",
    "        self.pay = pay\n",
    "        self.email = first + '.' + last + '@company.com'\n",
    "    \n",
    "    def fullname(): ########################### Watch out!\n",
    "        # It always calls the instance as a first argument. \n",
    "        # That is all you need. \n",
    "        return '{} {}'.format(self.first, self.last)\n",
    "\n",
    "emp1 = Employee(\"Tats\", \"SH\", 50000) # This is going to set all attributes \n",
    "emp2 = Employee(\"Test\",\"User\",60000) # This is going to set all attributes \n",
    "\n",
    "# This actually runs. "
   ]
  },
  {
   "cell_type": "code",
   "execution_count": 15,
   "metadata": {},
   "outputs": [
    {
     "ename": "TypeError",
     "evalue": "fullname() takes no arguments (1 given)",
     "output_type": "error",
     "traceback": [
      "\u001b[1;31m\u001b[0m",
      "\u001b[1;31mTypeError\u001b[0mTraceback (most recent call last)",
      "\u001b[1;32m<ipython-input-15-2126033b44b6>\u001b[0m in \u001b[0;36m<module>\u001b[1;34m()\u001b[0m\n\u001b[0;32m     22\u001b[0m \u001b[1;33m\u001b[0m\u001b[0m\n\u001b[0;32m     23\u001b[0m \u001b[1;31m# Error\u001b[0m\u001b[1;33m\u001b[0m\u001b[1;33m\u001b[0m\u001b[0m\n\u001b[1;32m---> 24\u001b[1;33m \u001b[1;32mprint\u001b[0m\u001b[1;33m(\u001b[0m\u001b[0memp1\u001b[0m\u001b[1;33m.\u001b[0m\u001b[0mfullname\u001b[0m\u001b[1;33m(\u001b[0m\u001b[1;33m)\u001b[0m\u001b[1;33m)\u001b[0m \u001b[1;31m# You need () here because this is a method instead of an attribute.\u001b[0m\u001b[1;33m\u001b[0m\u001b[0m\n\u001b[0m",
      "\u001b[1;31mTypeError\u001b[0m: fullname() takes no arguments (1 given)"
     ]
    }
   ],
   "source": [
    "# self is important\n",
    "class Employee:\n",
    "    def __init__(self, first, last, pay):\n",
    "        # It receives the instance as a first argument automatically. \n",
    "        # By convention, it is called self. \n",
    "        # After the self, you should input other arguments you want to accept.\n",
    "        \n",
    "        # self is instance\n",
    "        # Set all instance variables\n",
    "        self.first = first\n",
    "        self.last = last\n",
    "        self.pay = pay\n",
    "        self.email = first + '.' + last + '@company.com'\n",
    "    \n",
    "    def fullname(): ########################### Watch out!\n",
    "        # It always calls the instance as a first argument. \n",
    "        # That is all you need. \n",
    "        return '{} {}'.format(self.first, self.last)\n",
    "\n",
    "emp1 = Employee(\"Tats\", \"SH\", 50000) # This is going to set all attributes \n",
    "emp2 = Employee(\"Test\",\"User\",60000) # This is going to set all attributes \n",
    "\n",
    "# Error\n",
    "print(emp1.fullname()) # You need () here because this is a method instead of an attribute. "
   ]
  },
  {
   "cell_type": "code",
   "execution_count": 16,
   "metadata": {},
   "outputs": [
    {
     "name": "stdout",
     "output_type": "stream",
     "text": [
      "Tats SH\n",
      "Tats SH\n"
     ]
    }
   ],
   "source": [
    "# Alternative way\n",
    "class Employee:\n",
    "    def __init__(self, first, last, pay):\n",
    "        # It receives the instance as a first argument automatically. \n",
    "        # By convention, it is called self. \n",
    "        # After the self, you should input other arguments you want to accept.\n",
    "        \n",
    "        # self is instance\n",
    "        # Set all instance variables\n",
    "        self.first = first\n",
    "        self.last = last\n",
    "        self.pay = pay\n",
    "        self.email = first + '.' + last + '@company.com'\n",
    "    \n",
    "    def fullname(self): \n",
    "        # It always calls the instance as a first argument. \n",
    "        # That is all you need. \n",
    "        return '{} {}'.format(self.first, self.last)\n",
    "\n",
    "emp1 = Employee(\"Tats\", \"SH\", 50000) # This is going to set all attributes \n",
    "emp2 = Employee(\"Test\",\"User\",60000) # This is going to set all attributes \n",
    "\n",
    "## These two lines do exactly the same thing. \n",
    "print(emp1.fullname()) \n",
    "# Instance calles the method. You don't need to pass in \"self\". \n",
    "print(Employee.fullname(emp1)) \n",
    "# When you call the method of the class, it does not know what inctance is. You need to pass instance. "
   ]
  },
  {
   "cell_type": "code",
   "execution_count": 19,
   "metadata": {},
   "outputs": [
    {
     "name": "stdout",
     "output_type": "stream",
     "text": [
      "50000\n",
      "50000\n",
      "52000\n"
     ]
    }
   ],
   "source": [
    "#########################################################\n",
    "## Video 2\n",
    "# Class Variables\n",
    "#### \n",
    "# Class variables are shared among all instances on the class while instance variables are unique in each instance. \n",
    "\n",
    "class Employee:\n",
    "    def __init__(self, first, last, pay):\n",
    "        self.first = first\n",
    "        self.last = last\n",
    "        self.pay = pay\n",
    "        self.email = first + '.' + last + '@company.com'\n",
    "    \n",
    "    def fullname(self): \n",
    "        return '{} {}'.format(self.first, self.last)\n",
    "\n",
    "    def apply_raise(self): \n",
    "        self.pay = int(self.pay * 1.04)\n",
    "    \n",
    "emp_1 = Employee(\"Tats\", \"SH\", 50000) # This is going to set all attributes \n",
    "emp_2 = Employee(\"Test\",\"User\",60000) # This is going to set all attributes \n",
    "\n",
    "print(emp_1.pay)\n",
    "emp_1.apply_raise\n",
    "print(emp_1.pay)\n",
    "emp_1.apply_raise() # Do not forget ()!\n",
    "print(emp_1.pay)\n",
    "\n",
    "### Raise amount \"4%\" is hidden in the class. "
   ]
  },
  {
   "cell_type": "code",
   "execution_count": 20,
   "metadata": {},
   "outputs": [
    {
     "name": "stdout",
     "output_type": "stream",
     "text": [
      "50000\n",
      "50000\n"
     ]
    },
    {
     "ename": "NameError",
     "evalue": "global name 'raise_amount' is not defined",
     "output_type": "error",
     "traceback": [
      "\u001b[1;31m\u001b[0m",
      "\u001b[1;31mNameError\u001b[0mTraceback (most recent call last)",
      "\u001b[1;32m<ipython-input-20-b80fd97042ba>\u001b[0m in \u001b[0;36m<module>\u001b[1;34m()\u001b[0m\n\u001b[0;32m     21\u001b[0m \u001b[0memp_1\u001b[0m\u001b[1;33m.\u001b[0m\u001b[0mapply_raise\u001b[0m\u001b[1;33m\u001b[0m\u001b[0m\n\u001b[0;32m     22\u001b[0m \u001b[1;32mprint\u001b[0m\u001b[1;33m(\u001b[0m\u001b[0memp_1\u001b[0m\u001b[1;33m.\u001b[0m\u001b[0mpay\u001b[0m\u001b[1;33m)\u001b[0m\u001b[1;33m\u001b[0m\u001b[0m\n\u001b[1;32m---> 23\u001b[1;33m \u001b[0memp_1\u001b[0m\u001b[1;33m.\u001b[0m\u001b[0mapply_raise\u001b[0m\u001b[1;33m(\u001b[0m\u001b[1;33m)\u001b[0m \u001b[1;31m# Do not forget ()!\u001b[0m\u001b[1;33m\u001b[0m\u001b[0m\n\u001b[0m\u001b[0;32m     24\u001b[0m \u001b[1;32mprint\u001b[0m\u001b[1;33m(\u001b[0m\u001b[0memp_1\u001b[0m\u001b[1;33m.\u001b[0m\u001b[0mpay\u001b[0m\u001b[1;33m)\u001b[0m\u001b[1;33m\u001b[0m\u001b[0m\n",
      "\u001b[1;32m<ipython-input-20-b80fd97042ba>\u001b[0m in \u001b[0;36mapply_raise\u001b[1;34m(self)\u001b[0m\n\u001b[0;32m     13\u001b[0m \u001b[1;33m\u001b[0m\u001b[0m\n\u001b[0;32m     14\u001b[0m     \u001b[1;32mdef\u001b[0m \u001b[0mapply_raise\u001b[0m\u001b[1;33m(\u001b[0m\u001b[0mself\u001b[0m\u001b[1;33m)\u001b[0m\u001b[1;33m:\u001b[0m\u001b[1;33m\u001b[0m\u001b[0m\n\u001b[1;32m---> 15\u001b[1;33m         \u001b[0mself\u001b[0m\u001b[1;33m.\u001b[0m\u001b[0mpay\u001b[0m \u001b[1;33m=\u001b[0m \u001b[0mint\u001b[0m\u001b[1;33m(\u001b[0m\u001b[0mself\u001b[0m\u001b[1;33m.\u001b[0m\u001b[0mpay\u001b[0m \u001b[1;33m*\u001b[0m \u001b[0mraise_amount\u001b[0m\u001b[1;33m)\u001b[0m\u001b[1;33m\u001b[0m\u001b[0m\n\u001b[0m\u001b[0;32m     16\u001b[0m \u001b[1;33m\u001b[0m\u001b[0m\n\u001b[0;32m     17\u001b[0m \u001b[0memp_1\u001b[0m \u001b[1;33m=\u001b[0m \u001b[0mEmployee\u001b[0m\u001b[1;33m(\u001b[0m\u001b[1;34m\"Tats\"\u001b[0m\u001b[1;33m,\u001b[0m \u001b[1;34m\"SH\"\u001b[0m\u001b[1;33m,\u001b[0m \u001b[1;36m50000\u001b[0m\u001b[1;33m)\u001b[0m \u001b[1;31m# This is going to set all attributes\u001b[0m\u001b[1;33m\u001b[0m\u001b[0m\n",
      "\u001b[1;31mNameError\u001b[0m: global name 'raise_amount' is not defined"
     ]
    }
   ],
   "source": [
    "class Employee:\n",
    "    \n",
    "    raise_amount = 1.04\n",
    "    \n",
    "    def __init__(self, first, last, pay):\n",
    "        self.first = first\n",
    "        self.last = last\n",
    "        self.pay = pay\n",
    "        self.email = first + '.' + last + '@company.com'\n",
    "    \n",
    "    def fullname(self): \n",
    "        return '{} {}'.format(self.first, self.last)\n",
    "\n",
    "    def apply_raise(self): \n",
    "        self.pay = int(self.pay * raise_amount)\n",
    "    \n",
    "emp_1 = Employee(\"Tats\", \"SH\", 50000) # This is going to set all attributes \n",
    "emp_2 = Employee(\"Test\",\"User\",60000) # This is going to set all attributes \n",
    "\n",
    "print(emp_1.pay)\n",
    "emp_1.apply_raise() # Do not forget ()!\n",
    "print(emp_1.pay)\n",
    "\n",
    "### This gives an error."
   ]
  },
  {
   "cell_type": "code",
   "execution_count": 1,
   "metadata": {},
   "outputs": [
    {
     "name": "stdout",
     "output_type": "stream",
     "text": [
      "50000\n",
      "52000\n"
     ]
    }
   ],
   "source": [
    "class Employee:\n",
    "    \n",
    "    raise_amount = 1.04\n",
    "    \n",
    "    def __init__(self, first, last, pay):\n",
    "        self.first = first\n",
    "        self.last = last\n",
    "        self.pay = pay\n",
    "        self.email = first + '.' + last + '@company.com'\n",
    "    \n",
    "    def fullname(self): \n",
    "        return '{} {}'.format(self.first, self.last)\n",
    "\n",
    "    def apply_raise(self): \n",
    "        self.pay = int(self.pay * self.raise_amount)\n",
    "    \n",
    "emp_1 = Employee(\"Tats\", \"SH\", 50000) # This is going to set all attributes \n",
    "emp_2 = Employee(\"Test\",\"User\",60000) # This is going to set all attributes \n",
    "\n",
    "print(emp_1.pay)\n",
    "emp_1.apply_raise() # Do not forget ()!\n",
    "print(emp_1.pay)\n",
    "\n",
    "### This gives an error."
   ]
  },
  {
   "cell_type": "code",
   "execution_count": null,
   "metadata": {},
   "outputs": [],
   "source": []
  }
 ],
 "metadata": {
  "kernelspec": {
   "display_name": "Python 2",
   "language": "python",
   "name": "python2"
  },
  "language_info": {
   "codemirror_mode": {
    "name": "ipython",
    "version": 2
   },
   "file_extension": ".py",
   "mimetype": "text/x-python",
   "name": "python",
   "nbconvert_exporter": "python",
   "pygments_lexer": "ipython2",
   "version": "2.7.12"
  }
 },
 "nbformat": 4,
 "nbformat_minor": 2
}
